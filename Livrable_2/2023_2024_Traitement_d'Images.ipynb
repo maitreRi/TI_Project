{
  "cells": [
    {
      "cell_type": "code",
      "execution_count": null,
      "metadata": {
        "id": "7sCWfVLrFeTn"
      },
      "outputs": [],
      "source": [
        "import os\n",
        "import numpy as np\n",
        "from numpy.linalg import norm\n",
        "from skimage.util.shape import *\n",
        "from operator import mul, sub\n",
        "from math import floor, sqrt, log10\n",
        "import sys\n",
        "from scipy.sparse.linalg import svds\n",
        "from scipy.stats import chi2\n",
        "from skimage.util import pad\n",
        "import timeit\n",
        "import os\n",
        "os.sys.path\n",
        "from skimage import io\n",
        "import numpy as np\n",
        "import PIL.Image\n",
        "from PIL import Image, ImageFile  # pour convertir une image en niveaux de gris\n",
        "import os\n"
      ]
    },
    {
      "cell_type": "code",
      "execution_count": null,
      "metadata": {
        "id": "DUMTt7aCxEN9"
      },
      "outputs": [],
      "source": [
        "def standardization(m):\n",
        "  n,p=m.shape\n",
        "  means = np.zeros(p)\n",
        "  stds = np.zeros(p)\n",
        "  for i in range(p):\n",
        "    sum = 0\n",
        "    mean = 0\n",
        "    std = 0\n",
        "    for j in range(n):\n",
        "      sum += m[j][i]\n",
        "    mean = sum/n\n",
        "    sum = 0\n",
        "    for j in range(n):\n",
        "      sum += (m[j][i]-mean)**2\n",
        "    std = np.sqrt(1/n*sum)\n",
        "    sum = 0\n",
        "    for j in range(n):\n",
        "      m[j][i] = (m[j][i] -mean)/std\n",
        "      means[i]=mean\n",
        "      stds[i]=std\n",
        "  return m,means,stds"
      ]
    },
    {
      "cell_type": "code",
      "execution_count": null,
      "metadata": {
        "id": "3R5PiPPfk8C-"
      },
      "outputs": [],
      "source": [
        "def OMP(X,D,kmax,eps):\n",
        "    R = X #création du résiduel\n",
        "    alpha = np.zeros(len(D[0])) # création de alpha\n",
        "    support = []\n",
        "    k = 0\n",
        "    m =[0 for i in range (len(D[0]))]\n",
        "    while np.linalg.norm(R) > eps and k < kmax : # critere d'arret\n",
        "        #print(R)\n",
        "        for j in range (len(D[0])):\n",
        "            dj = np.array(D[:,[j]])\n",
        "            m[j] = abs((np.vdot(dj,R)) / (np.linalg.norm(dj)))\n",
        "        mk=np.argmax(m)\n",
        "        support.append(mk)\n",
        "       # print(len(support),\"test\")\n",
        "        #print(support)\n",
        "        phi = np.array(D[:,support])\n",
        "       # print(phi)\n",
        "        alpha[support] = (np.linalg.pinv(phi)).dot(X)\n",
        "        R = X-D.dot(alpha)\n",
        "        k=k+1\n",
        "    return (alpha)"
      ]
    },
    {
      "cell_type": "code",
      "execution_count": null,
      "metadata": {
        "colab": {
          "base_uri": "https://localhost:8080/"
        },
        "id": "9Xf3rWW2lAPK",
        "outputId": "d187e66b-0192-4fd7-93da-5fa90b5932e5"
      },
      "outputs": [
        {
          "data": {
            "text/plain": [
              "(100, 500)"
            ]
          },
          "execution_count": 15,
          "metadata": {},
          "output_type": "execute_result"
        }
      ],
      "source": [
        "def Initialisation_dictionnaire(X,K):\n",
        "  (N,l) = X.shape\n",
        "  D = np.zeros((N,K))\n",
        "  for k in range(K):\n",
        "    normDcolonne = norm(X[:, k])\n",
        "    for i in range(N):\n",
        "      D[i, k] = X[i,k] / normDcolonne\n",
        "  return D\n",
        "DicoInitial=Initialisation_dictionnaire(DicoInitial,500)\n",
        "\n",
        "\n",
        "def realisationDeOMP(X,K,Nmax,eps):\n",
        "  (N,l)=X.shape\n",
        "  alpha=np.zeros((K,len(X[0])))\n",
        "  #Nombre d'iteration maximal à effectuer pour OMP\n",
        "  MAX_bruiteeITR=np.round(K/10);\n",
        "  D0=Initialisation_dictionnaire(X,K)\n",
        "\n",
        "  for i in range(1,l):\n",
        "    alpha[:,j]=OMP(X[:,j],D0,10,eps)\n",
        "  return alpha\n",
        "\n",
        "\n",
        "\n",
        "def Lambda(X,D):\n",
        "  (N, ell) = X.shape\n",
        "  (N, K) = D.shape\n",
        "  Lambda = np.zeros((K, ell))\n",
        "  for j in range(ell):\n",
        "    x = X[:, j]\n",
        "    #x = x.reshape((N, 1))\n",
        "    alpha = OMP(x,D,50,eps)\n",
        "    for i in range(K):\n",
        "      Lambda[i,j] = alpha[i]\n",
        "\n",
        "  return Lambda\n",
        "\n",
        "\n",
        "  # Définition d'une fonction pour déterminer le support\n",
        "def support(A_k):\n",
        "  w = []\n",
        "  for k in range(len(A_k)):\n",
        "    if A_k[k] != 0:\n",
        "     w.append(k)\n",
        "  return w\n",
        "\n",
        "def Omega(support,l):\n",
        "  card = len(support)\n",
        "  omega = np.zeros((l, card))\n",
        "  for a in range(card):\n",
        "    omega[support[a], a] = 1\n",
        "  return omega\n",
        "\n",
        "\n",
        "def k_svd(D,Lambda,X):\n",
        "  (N, l) = X.shape\n",
        "  (N, K) = D.shape\n",
        "  for k in range(K):\n",
        "    w_k = support(Lambda[k, :])\n",
        "    card = len(w_k)\n",
        "    if card != 0:\n",
        "      E_k = X - np.dot(D, Lambda) + np.dot(D[:, k].reshape((N, 1)), Lambda[k, :].reshape((1, l)))\n",
        "      omega = np.zeros((l, card))\n",
        "  for a in range(card):\n",
        "    omega[w_k[a], a] = 1\n",
        "    E_kr = np.dot(E_k, omega)\n",
        "    U, S, V = np.linalg.svd(E_kr)\n",
        "  for i in range(N):\n",
        "    D[i, k] = U[i, 0]\n",
        "  for j in range(len(w_k)):\n",
        "   Lambda[k, w_k[j]] = S[0] * V[0, j]\n",
        "  return D, Lambda\n",
        "\n",
        "def D_0(X,K):\n",
        "    (N,ell) = X.shape\n",
        "    D = np.zeros((N, K))\n",
        "    for k in range(K):\n",
        "        normXcolonne = norm(X[:, k])\n",
        "        for i in range(N):\n",
        "            D[i, k] = X[i,k] / normXcolonne\n",
        "    return D\n",
        "\n",
        "def dictionary_learning(X, K, L):\n",
        "  D = D_0(X, K)\n",
        "  D=Initialisation_dictionnaire(X,K)\n",
        "  for l in range(L):\n",
        "    A = Lambda(X,D)\n",
        "    [D,A]= k_svd(D,A,X)\n",
        "\n",
        "  return D,A\n",
        "\n",
        "DicoInitial.shape\n"
      ]
    },
    {
      "cell_type": "code",
      "execution_count": null,
      "metadata": {
        "id": "tZb6858ylUiS"
      },
      "outputs": [],
      "source": [
        "K=1000\n",
        "L=2\n",
        "Dlearning,A=dictionary_learning(DicoInitial,314,1)##K=100\n",
        "\n"
      ]
    },
    {
      "cell_type": "code",
      "execution_count": null,
      "metadata": {
        "id": "hPvstRapP-Lu"
      },
      "outputs": [],
      "source": [
        "def inverseTransform(M,means,stds):\n",
        "  n,p = M.shape\n",
        "  for i in range(p):\n",
        "    for j in range(n):\n",
        "      M[j,i]=M[j][i]*stds[i]+means[i]\n",
        "  return M"
      ]
    }
  ],
  "metadata": {
    "colab": {
      "provenance": []
    },
    "kernelspec": {
      "display_name": "Python 3 (ipykernel)",
      "language": "python",
      "name": "python3"
    },
    "language_info": {
      "codemirror_mode": {
        "name": "ipython",
        "version": 3
      },
      "file_extension": ".py",
      "mimetype": "text/x-python",
      "name": "python",
      "nbconvert_exporter": "python",
      "pygments_lexer": "ipython3",
      "version": "3.9.6"
    }
  },
  "nbformat": 4,
  "nbformat_minor": 0
}