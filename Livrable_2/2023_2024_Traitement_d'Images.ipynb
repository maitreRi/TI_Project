{
  "cells": [
    {
      "cell_type": "code",
      "execution_count": 18,
      "metadata": {},
      "outputs": [
        {
          "name": "stdout",
          "output_type": "stream",
          "text": [
            "Requirement already satisfied: Numpy in c:\\users\\cytech student\\appdata\\local\\programs\\python\\python39\\lib\\site-packages (1.26.3)Note: you may need to restart the kernel to use updated packages.\n",
            "\n"
          ]
        }
      ],
      "source": [
        "pip install Numpy"
      ]
    },
    {
      "cell_type": "code",
      "execution_count": 22,
      "metadata": {
        "id": "7sCWfVLrFeTn"
      },
      "outputs": [],
      "source": [
        "import os\n",
        "import numpy as np\n",
        "from numpy.linalg import norm\n",
        "from skimage.util.shape import *\n",
        "from numpy import pad as skimage_pad\n",
        "from operator import mul, sub\n",
        "from math import floor, sqrt, log10\n",
        "import sys\n",
        "from scipy.sparse.linalg import svds\n",
        "from scipy.stats import chi2\n",
        "import timeit\n",
        "os.sys.path\n",
        "from skimage import io\n",
        "import PIL.Image\n",
        "from PIL import Image, ImageFile  # pour convertir une image en niveaux de gris"
      ]
    },
    {
      "cell_type": "code",
      "execution_count": 23,
      "metadata": {
        "id": "DUMTt7aCxEN9"
      },
      "outputs": [],
      "source": [
        "def standardization(m):\n",
        "  n,p=m.shape\n",
        "  means = np.zeros(p)\n",
        "  stds = np.zeros(p)\n",
        "  for i in range(p):\n",
        "    sum = 0\n",
        "    mean = 0\n",
        "    std = 0\n",
        "    for j in range(n):\n",
        "      sum += m[j][i]\n",
        "    mean = sum/n\n",
        "    sum = 0\n",
        "    for j in range(n):\n",
        "      sum += (m[j][i]-mean)**2\n",
        "    std = np.sqrt(1/n*sum)\n",
        "    sum = 0\n",
        "    for j in range(n):\n",
        "      m[j][i] = (m[j][i] -mean)/std\n",
        "      means[i]=mean\n",
        "      stds[i]=std\n",
        "  return m,means,stds"
      ]
    },
    {
      "cell_type": "code",
      "execution_count": 24,
      "metadata": {
        "id": "3R5PiPPfk8C-"
      },
      "outputs": [],
      "source": [
        "def OMP(X,D,kmax,eps):\n",
        "    R = X #création du résiduel\n",
        "    alpha = np.zeros(len(D[0])) # création de alpha\n",
        "    support = []\n",
        "    k = 0\n",
        "    m =[0 for i in range (len(D[0]))]\n",
        "    while np.linalg.norm(R) > eps and k < kmax : # critere d'arret\n",
        "        #print(R)\n",
        "        for j in range (len(D[0])):\n",
        "            dj = np.array(D[:,[j]])\n",
        "            m[j] = abs((np.vdot(dj,R)) / (np.linalg.norm(dj)))\n",
        "        mk=np.argmax(m)\n",
        "        support.append(mk)\n",
        "       # print(len(support),\"test\")\n",
        "        #print(support)\n",
        "        phi = np.array(D[:,support])\n",
        "       # print(phi)\n",
        "        alpha[support] = (np.linalg.pinv(phi)).dot(X)\n",
        "        R = X-D.dot(alpha)\n",
        "        k=k+1\n",
        "    return (alpha)"
      ]
    },
    {
      "cell_type": "code",
      "execution_count": 25,
      "metadata": {
        "colab": {
          "base_uri": "https://localhost:8080/"
        },
        "id": "9Xf3rWW2lAPK",
        "outputId": "d187e66b-0192-4fd7-93da-5fa90b5932e5"
      },
      "outputs": [
        {
          "ename": "NameError",
          "evalue": "name 'DicoInitial' is not defined",
          "output_type": "error",
          "traceback": [
            "\u001b[1;31m---------------------------------------------------------------------------\u001b[0m",
            "\u001b[1;31mNameError\u001b[0m                                 Traceback (most recent call last)",
            "\u001b[1;32mC:\\Users\\CYTECH~1\\AppData\\Local\\Temp/ipykernel_15408/3521090794.py\u001b[0m in \u001b[0;36m<module>\u001b[1;34m\u001b[0m\n\u001b[0;32m      7\u001b[0m       \u001b[0mD\u001b[0m\u001b[1;33m[\u001b[0m\u001b[0mi\u001b[0m\u001b[1;33m,\u001b[0m \u001b[0mk\u001b[0m\u001b[1;33m]\u001b[0m \u001b[1;33m=\u001b[0m \u001b[0mX\u001b[0m\u001b[1;33m[\u001b[0m\u001b[0mi\u001b[0m\u001b[1;33m,\u001b[0m\u001b[0mk\u001b[0m\u001b[1;33m]\u001b[0m \u001b[1;33m/\u001b[0m \u001b[0mnormDcolonne\u001b[0m\u001b[1;33m\u001b[0m\u001b[1;33m\u001b[0m\u001b[0m\n\u001b[0;32m      8\u001b[0m   \u001b[1;32mreturn\u001b[0m \u001b[0mD\u001b[0m\u001b[1;33m\u001b[0m\u001b[1;33m\u001b[0m\u001b[0m\n\u001b[1;32m----> 9\u001b[1;33m \u001b[0mDicoInitial\u001b[0m\u001b[1;33m=\u001b[0m\u001b[0mInitialisation_dictionnaire\u001b[0m\u001b[1;33m(\u001b[0m\u001b[0mDicoInitial\u001b[0m\u001b[1;33m,\u001b[0m\u001b[1;36m500\u001b[0m\u001b[1;33m)\u001b[0m\u001b[1;33m\u001b[0m\u001b[1;33m\u001b[0m\u001b[0m\n\u001b[0m\u001b[0;32m     10\u001b[0m \u001b[1;33m\u001b[0m\u001b[0m\n\u001b[0;32m     11\u001b[0m \u001b[1;33m\u001b[0m\u001b[0m\n",
            "\u001b[1;31mNameError\u001b[0m: name 'DicoInitial' is not defined"
          ]
        }
      ],
      "source": [
        "def Initialisation_dictionnaire(X,K):\n",
        "  (N,l) = X.shape\n",
        "  D = np.zeros((N,K))\n",
        "  for k in range(K):\n",
        "    normDcolonne = norm(X[:, k])\n",
        "    for i in range(N):\n",
        "      D[i, k] = X[i,k] / normDcolonne\n",
        "  return D\n",
        "DicoInitial=Initialisation_dictionnaire(DicoInitial,500)\n",
        "\n",
        "\n",
        "def realisationDeOMP(X,K,Nmax,eps):\n",
        "  (N,l)=X.shape\n",
        "  alpha=np.zeros((K,len(X[0])))\n",
        "  #Nombre d'iteration maximal à effectuer pour OMP\n",
        "  MAX_bruiteeITR=np.round(K/10);\n",
        "  D0=Initialisation_dictionnaire(X,K)\n",
        "\n",
        "  for i in range(1,l):\n",
        "    alpha[:,j]=OMP(X[:,j],D0,10,eps)\n",
        "  return alpha\n",
        "\n",
        "\n",
        "\n",
        "def Lambda(X,D):\n",
        "  (N, ell) = X.shape\n",
        "  (N, K) = D.shape\n",
        "  Lambda = np.zeros((K, ell))\n",
        "  for j in range(ell):\n",
        "    x = X[:, j]\n",
        "    #x = x.reshape((N, 1))\n",
        "    alpha = OMP(x,D,50,eps)\n",
        "    for i in range(K):\n",
        "      Lambda[i,j] = alpha[i]\n",
        "\n",
        "  return Lambda\n",
        "\n",
        "\n",
        "  # Définition d'une fonction pour déterminer le support\n",
        "def support(A_k):\n",
        "  w = []\n",
        "  for k in range(len(A_k)):\n",
        "    if A_k[k] != 0:\n",
        "     w.append(k)\n",
        "  return w\n",
        "\n",
        "def Omega(support,l):\n",
        "  card = len(support)\n",
        "  omega = np.zeros((l, card))\n",
        "  for a in range(card):\n",
        "    omega[support[a], a] = 1\n",
        "  return omega\n",
        "\n",
        "\n",
        "def k_svd(D,Lambda,X):\n",
        "  (N, l) = X.shape\n",
        "  (N, K) = D.shape\n",
        "  for k in range(K):\n",
        "    w_k = support(Lambda[k, :])\n",
        "    card = len(w_k)\n",
        "    if card != 0:\n",
        "      E_k = X - np.dot(D, Lambda) + np.dot(D[:, k].reshape((N, 1)), Lambda[k, :].reshape((1, l)))\n",
        "      omega = np.zeros((l, card))\n",
        "  for a in range(card):\n",
        "    omega[w_k[a], a] = 1\n",
        "    E_kr = np.dot(E_k, omega)\n",
        "    U, S, V = np.linalg.svd(E_kr)\n",
        "  for i in range(N):\n",
        "    D[i, k] = U[i, 0]\n",
        "  for j in range(len(w_k)):\n",
        "   Lambda[k, w_k[j]] = S[0] * V[0, j]\n",
        "  return D, Lambda\n",
        "\n",
        "def D_0(X,K):\n",
        "    (N,ell) = X.shape\n",
        "    D = np.zeros((N, K))\n",
        "    for k in range(K):\n",
        "        normXcolonne = norm(X[:, k])\n",
        "        for i in range(N):\n",
        "            D[i, k] = X[i,k] / normXcolonne\n",
        "    return D\n",
        "\n",
        "def dictionary_learning(X, K, L):\n",
        "  D = D_0(X, K)\n",
        "  D=Initialisation_dictionnaire(X,K)\n",
        "  for l in range(L):\n",
        "    A = Lambda(X,D)\n",
        "    [D,A]= k_svd(D,A,X)\n",
        "\n",
        "  return D,A\n",
        "\n",
        "DicoInitial.shape\n"
      ]
    },
    {
      "cell_type": "code",
      "execution_count": 26,
      "metadata": {
        "id": "tZb6858ylUiS"
      },
      "outputs": [
        {
          "ename": "NameError",
          "evalue": "name 'dictionary_learning' is not defined",
          "output_type": "error",
          "traceback": [
            "\u001b[1;31m---------------------------------------------------------------------------\u001b[0m",
            "\u001b[1;31mNameError\u001b[0m                                 Traceback (most recent call last)",
            "\u001b[1;32mC:\\Users\\CYTECH~1\\AppData\\Local\\Temp/ipykernel_15408/2997434456.py\u001b[0m in \u001b[0;36m<module>\u001b[1;34m\u001b[0m\n\u001b[0;32m      1\u001b[0m \u001b[0mK\u001b[0m\u001b[1;33m=\u001b[0m\u001b[1;36m1000\u001b[0m\u001b[1;33m\u001b[0m\u001b[1;33m\u001b[0m\u001b[0m\n\u001b[0;32m      2\u001b[0m \u001b[0mL\u001b[0m\u001b[1;33m=\u001b[0m\u001b[1;36m2\u001b[0m\u001b[1;33m\u001b[0m\u001b[1;33m\u001b[0m\u001b[0m\n\u001b[1;32m----> 3\u001b[1;33m \u001b[0mDlearning\u001b[0m\u001b[1;33m,\u001b[0m\u001b[0mA\u001b[0m\u001b[1;33m=\u001b[0m\u001b[0mdictionary_learning\u001b[0m\u001b[1;33m(\u001b[0m\u001b[0mDicoInitial\u001b[0m\u001b[1;33m,\u001b[0m\u001b[1;36m314\u001b[0m\u001b[1;33m,\u001b[0m\u001b[1;36m1\u001b[0m\u001b[1;33m)\u001b[0m\u001b[1;31m##K=100\u001b[0m\u001b[1;33m\u001b[0m\u001b[1;33m\u001b[0m\u001b[0m\n\u001b[0m\u001b[0;32m      4\u001b[0m \u001b[1;33m\u001b[0m\u001b[0m\n",
            "\u001b[1;31mNameError\u001b[0m: name 'dictionary_learning' is not defined"
          ]
        }
      ],
      "source": [
        "K=1000\n",
        "L=2\n",
        "Dlearning,A=dictionary_learning(DicoInitial,314,1)##K=100\n",
        "\n"
      ]
    },
    {
      "cell_type": "code",
      "execution_count": 27,
      "metadata": {
        "id": "hPvstRapP-Lu"
      },
      "outputs": [],
      "source": [
        "def inverseTransform(M,means,stds):\n",
        "  n,p = M.shape\n",
        "  for i in range(p):\n",
        "    for j in range(n):\n",
        "      M[j,i]=M[j][i]*stds[i]+means[i]\n",
        "  return M"
      ]
    }
  ],
  "metadata": {
    "colab": {
      "provenance": []
    },
    "kernelspec": {
      "display_name": "Python 3 (ipykernel)",
      "language": "python",
      "name": "python3"
    },
    "language_info": {
      "codemirror_mode": {
        "name": "ipython",
        "version": 3
      },
      "file_extension": ".py",
      "mimetype": "text/x-python",
      "name": "python",
      "nbconvert_exporter": "python",
      "pygments_lexer": "ipython3",
      "version": "3.9.4"
    }
  },
  "nbformat": 4,
  "nbformat_minor": 0
}
